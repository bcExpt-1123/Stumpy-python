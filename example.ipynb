{
 "cells": [
  {
   "cell_type": "markdown",
   "metadata": {},
   "source": [
    "# <font color='red'>THIS IS NOT PRODUCTION CODE! USE AT YOUR OWN PERIL!</font>"
   ]
  },
  {
   "cell_type": "markdown",
   "metadata": {},
   "source": [
    "# The matrix_profile module requires Python 3.5+"
   ]
  },
  {
   "cell_type": "markdown",
   "metadata": {},
   "source": [
    "# Import Packages and Modules"
   ]
  },
  {
   "cell_type": "code",
   "execution_count": 1,
   "metadata": {},
   "outputs": [],
   "source": [
    "import numpy as np  # conda install numpy\n",
    "import pandas as pd  # conda install pandas\n",
    "from matrix_profile import stamp, stomp  # See matrix_profile.py in current working directory"
   ]
  },
  {
   "cell_type": "markdown",
   "metadata": {},
   "source": [
    "# Read Data"
   ]
  },
  {
   "cell_type": "code",
   "execution_count": 2,
   "metadata": {},
   "outputs": [
    {
     "data": {
      "text/html": [
       "<div>\n",
       "<style scoped>\n",
       "    .dataframe tbody tr th:only-of-type {\n",
       "        vertical-align: middle;\n",
       "    }\n",
       "\n",
       "    .dataframe tbody tr th {\n",
       "        vertical-align: top;\n",
       "    }\n",
       "\n",
       "    .dataframe thead th {\n",
       "        text-align: right;\n",
       "    }\n",
       "</style>\n",
       "<table border=\"1\" class=\"dataframe\">\n",
       "  <thead>\n",
       "    <tr style=\"text-align: right;\">\n",
       "      <th></th>\n",
       "      <th>time-steps</th>\n",
       "      <th>fuel</th>\n",
       "      <th>air</th>\n",
       "      <th>level ref.</th>\n",
       "      <th>disturbance</th>\n",
       "      <th>drum pressure</th>\n",
       "      <th>excess oxygen</th>\n",
       "      <th>water level</th>\n",
       "      <th>steam flow</th>\n",
       "      <th>color</th>\n",
       "    </tr>\n",
       "  </thead>\n",
       "  <tbody>\n",
       "    <tr>\n",
       "      <th>0</th>\n",
       "      <td>0.0</td>\n",
       "      <td>0.723568</td>\n",
       "      <td>0.691629</td>\n",
       "      <td>-2.283056</td>\n",
       "      <td>0.017983</td>\n",
       "      <td>320.082389</td>\n",
       "      <td>2.506774</td>\n",
       "      <td>0.032701</td>\n",
       "      <td>9.302970</td>\n",
       "      <td>C</td>\n",
       "    </tr>\n",
       "    <tr>\n",
       "      <th>1</th>\n",
       "      <td>3.0</td>\n",
       "      <td>0.527147</td>\n",
       "      <td>0.383020</td>\n",
       "      <td>-3.716481</td>\n",
       "      <td>0.018718</td>\n",
       "      <td>321.710990</td>\n",
       "      <td>2.545908</td>\n",
       "      <td>0.284799</td>\n",
       "      <td>9.662621</td>\n",
       "      <td>C</td>\n",
       "    </tr>\n",
       "    <tr>\n",
       "      <th>2</th>\n",
       "      <td>6.0</td>\n",
       "      <td>0.589603</td>\n",
       "      <td>0.705815</td>\n",
       "      <td>-1.530993</td>\n",
       "      <td>0.020756</td>\n",
       "      <td>320.913308</td>\n",
       "      <td>2.360562</td>\n",
       "      <td>0.203652</td>\n",
       "      <td>10.990955</td>\n",
       "      <td>C</td>\n",
       "    </tr>\n",
       "    <tr>\n",
       "      <th>3</th>\n",
       "      <td>9.0</td>\n",
       "      <td>0.364854</td>\n",
       "      <td>0.713278</td>\n",
       "      <td>-3.173065</td>\n",
       "      <td>0.022927</td>\n",
       "      <td>325.002518</td>\n",
       "      <td>0.027054</td>\n",
       "      <td>0.326187</td>\n",
       "      <td>12.430107</td>\n",
       "      <td>C</td>\n",
       "    </tr>\n",
       "    <tr>\n",
       "      <th>4</th>\n",
       "      <td>12.0</td>\n",
       "      <td>0.576540</td>\n",
       "      <td>0.361978</td>\n",
       "      <td>-1.796212</td>\n",
       "      <td>0.020371</td>\n",
       "      <td>326.652765</td>\n",
       "      <td>0.285649</td>\n",
       "      <td>0.753776</td>\n",
       "      <td>13.681666</td>\n",
       "      <td>C</td>\n",
       "    </tr>\n",
       "  </tbody>\n",
       "</table>\n",
       "</div>"
      ],
      "text/plain": [
       "   time-steps      fuel       air  level ref.  disturbance  drum pressure  \\\n",
       "0         0.0  0.723568  0.691629   -2.283056     0.017983     320.082389   \n",
       "1         3.0  0.527147  0.383020   -3.716481     0.018718     321.710990   \n",
       "2         6.0  0.589603  0.705815   -1.530993     0.020756     320.913308   \n",
       "3         9.0  0.364854  0.713278   -3.173065     0.022927     325.002518   \n",
       "4        12.0  0.576540  0.361978   -1.796212     0.020371     326.652765   \n",
       "\n",
       "   excess oxygen  water level  steam flow color  \n",
       "0       2.506774     0.032701    9.302970     C  \n",
       "1       2.545908     0.284799    9.662621     C  \n",
       "2       2.360562     0.203652   10.990955     C  \n",
       "3       0.027054     0.326187   12.430107     C  \n",
       "4       0.285649     0.753776   13.681666     C  "
      ]
     },
     "execution_count": 2,
     "metadata": {},
     "output_type": "execute_result"
    }
   ],
   "source": [
    "colnames = ['time-steps',\n",
    "            'fuel',\n",
    "            'air',\n",
    "            'level ref.',\n",
    "            'disturbance',\n",
    "            'drum pressure',\n",
    "            'excess oxygen',\n",
    "            'water level',\n",
    "            'steam flow'\n",
    "           ]\n",
    "df = pd.read_table('steamgen.dat', header=None)\n",
    "df = df.drop(df.columns[len(df.columns)-1], axis=1)\n",
    "df.columns = colnames\n",
    "df['color'] = 'C'\n",
    "df.head()"
   ]
  },
  {
   "cell_type": "markdown",
   "metadata": {
    "collapsed": true
   },
   "source": [
    "# Create Matrix Profile - STAMP Implementation"
   ]
  },
  {
   "cell_type": "code",
   "execution_count": 3,
   "metadata": {},
   "outputs": [],
   "source": [
    "T = df[df['color'] == 'C']['steam flow'].values\n",
    "m = 800"
   ]
  },
  {
   "cell_type": "code",
   "execution_count": 4,
   "metadata": {
    "scrolled": true
   },
   "outputs": [
    {
     "name": "stdout",
     "output_type": "stream",
     "text": [
      "CPU times: user 4.45 s, sys: 55.6 ms, total: 4.5 s\n",
      "Wall time: 4.52 s\n"
     ]
    }
   ],
   "source": [
    "%time stamp_mp = pd.DataFrame(stamp.stamp(T, T, m, ignore_trivial=True), columns=['distance', 'idx'])"
   ]
  },
  {
   "cell_type": "markdown",
   "metadata": {},
   "source": [
    "# Create Matrix Profile - STOMP Implementation"
   ]
  },
  {
   "cell_type": "code",
   "execution_count": 5,
   "metadata": {},
   "outputs": [
    {
     "name": "stdout",
     "output_type": "stream",
     "text": [
      "CPU times: user 663 ms, sys: 5.4 ms, total: 668 ms\n",
      "Wall time: 669 ms\n"
     ]
    }
   ],
   "source": [
    "%time stomp_mp = pd.DataFrame(stomp.stomp(T, T, m, ignore_trivial=True), columns=['distance', 'idx'])"
   ]
  },
  {
   "cell_type": "markdown",
   "metadata": {},
   "source": [
    "# Compare STAMP and STOMP Solutions"
   ]
  },
  {
   "cell_type": "code",
   "execution_count": 6,
   "metadata": {},
   "outputs": [
    {
     "data": {
      "text/plain": [
       "True"
      ]
     },
     "execution_count": 6,
     "metadata": {},
     "output_type": "execute_result"
    }
   ],
   "source": [
    "stamp_mp['idx'].equals(stomp_mp['idx'])"
   ]
  },
  {
   "cell_type": "code",
   "execution_count": 7,
   "metadata": {},
   "outputs": [
    {
     "data": {
      "text/plain": [
       "True"
      ]
     },
     "execution_count": 7,
     "metadata": {},
     "output_type": "execute_result"
    }
   ],
   "source": [
    "np.all(np.isclose(stamp_mp['distance'].astype(np.float64), stomp_mp['distance'].astype(np.float64)))"
   ]
  }
 ],
 "metadata": {
  "kernelspec": {
   "display_name": "Python 3",
   "language": "python",
   "name": "python3"
  },
  "language_info": {
   "codemirror_mode": {
    "name": "ipython",
    "version": 3
   },
   "file_extension": ".py",
   "mimetype": "text/x-python",
   "name": "python",
   "nbconvert_exporter": "python",
   "pygments_lexer": "ipython3",
   "version": "3.6.3"
  }
 },
 "nbformat": 4,
 "nbformat_minor": 2
}
