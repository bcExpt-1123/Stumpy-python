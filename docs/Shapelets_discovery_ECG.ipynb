{
 "cells": [
  {
   "cell_type": "code",
   "execution_count": 1,
   "metadata": {},
   "outputs": [],
   "source": [
    "%matplotlib inline\n",
    "\n",
    "import stumpy\n",
    "import pandas as pd\n",
    "import numpy as np\n",
    "from zipfile import ZipFile\n",
    "from io import BytesIO\n",
    "import os\n",
    "from urllib.request import urlopen\n",
    "import matplotlib.pyplot as plt\n",
    "\n",
    "np.random.seed(1337)  # Random seed for reproducibility"
   ]
  },
  {
   "cell_type": "code",
   "execution_count": 2,
   "metadata": {},
   "outputs": [],
   "source": [
    "def load_dataset(dataset_name, dataset_folder):\n",
    "    dataset_path = os.path.join(dataset_folder, dataset_name)\n",
    "    train_file_path = os.path.join(dataset_path, '{}_TRAIN.tsv'.format(dataset_name))\n",
    "    test_file_path = os.path.join(dataset_path, '{}_TEST.tsv'.format(dataset_name))\n",
    "\n",
    "    # training data\n",
    "    train = pd.read_csv(train_file_path, sep='\\t', header = None)\n",
    "    test = pd.read_csv(test_file_path, sep='\\t', header = None)\n",
    "    X_train_0 = train[train.iloc[:, 0] == 2].iloc[:, 1:]\n",
    "    X_train_1 = train[train.iloc[:, 0] == 1].iloc[:, 1:]\n",
    "    y_train_0 = train[train.iloc[:, 0] == 2].iloc[:, 0]\n",
    "    y_train_1 = train[train.iloc[:, 0] == 1].iloc[:, 0]\n",
    "    X_test_0 = test[test.iloc[:, 0] == 2].iloc[:, 1:]\n",
    "    X_test_1 = test[test.iloc[:, 0] == 1].iloc[:, 1:]\n",
    "    y_test_0 = test[test.iloc[:, 0] == 2].iloc[:, 0]\n",
    "    y_test_1 = test[test.iloc[:, 0] == 1].iloc[:, 0]\n",
    "    X_train, y_train = train.iloc[:, 1:].to_numpy(), train.iloc[:, 0].to_numpy()\n",
    "    X_test, y_test = test.iloc[:, 1:].to_numpy(), test.iloc[:, 0].to_numpy()\n",
    "    \n",
    "    #replace class names\n",
    "    y_train[y_train == 2] = 0\n",
    "    y_test[y_test == 2] = 0\n",
    "    \n",
    "    return X_train, y_train, X_test, y_test, X_train_0, X_train_1, y_train_0, y_train_1\n",
    "\n",
    "X_train, y_train, X_test, y_test, X_train_0, X_train_1, y_train_0, y_train_1 = load_dataset('TwoLeadECG', 'datasets')"
   ]
  },
  {
   "cell_type": "code",
   "execution_count": 3,
   "metadata": {},
   "outputs": [
    {
     "data": {
      "text/plain": [
       "((23, 82), (23,))"
      ]
     },
     "execution_count": 3,
     "metadata": {},
     "output_type": "execute_result"
    }
   ],
   "source": [
    "X_train.shape, y_train.shape"
   ]
  },
  {
   "cell_type": "code",
   "execution_count": 4,
   "metadata": {},
   "outputs": [
    {
     "name": "stdout",
     "output_type": "stream",
     "text": [
      "/storage/shaplets-python\n"
     ]
    }
   ],
   "source": [
    "cd storage/shaplets-python"
   ]
  },
  {
   "cell_type": "code",
   "execution_count": 5,
   "metadata": {},
   "outputs": [
    {
     "data": {
      "text/plain": [
       "array([0, 1, 0, 1, 1, 1, 0, 0, 1, 1, 1, 0, 1, 1, 1, 0, 1, 0, 0, 1, 0, 0,\n",
       "       0])"
      ]
     },
     "execution_count": 5,
     "metadata": {},
     "output_type": "execute_result"
    }
   ],
   "source": [
    "y_train"
   ]
  },
  {
   "cell_type": "code",
   "execution_count": 6,
   "metadata": {},
   "outputs": [
    {
     "name": "stdout",
     "output_type": "stream",
     "text": [
      "Processing /storage/shaplets-python\n",
      "Requirement already satisfied: numpy<2.0.0,>=1.15.4 in /opt/conda/envs/fastai/lib/python3.8/site-packages (from shapelets-lts==0.3.1) (1.19.1)\n",
      "Requirement already satisfied: pandas<2.0.0,<2.0.0scipy>=1.2.0,>=0.23.4 in /opt/conda/envs/fastai/lib/python3.8/site-packages (from shapelets-lts==0.3.1) (1.1.0)\n",
      "Requirement already satisfied: scikit-learn<2.0.0,>=0.20.2 in /opt/conda/envs/fastai/lib/python3.8/site-packages (from shapelets-lts==0.3.1) (0.23.2)\n",
      "Requirement already satisfied: seaborn<2.0.0,>=0.9.0 in /opt/conda/envs/fastai/lib/python3.8/site-packages (from shapelets-lts==0.3.1) (0.11.0)\n",
      "Requirement already satisfied: pytz>=2017.2 in /opt/conda/envs/fastai/lib/python3.8/site-packages (from pandas<2.0.0,<2.0.0scipy>=1.2.0,>=0.23.4->shapelets-lts==0.3.1) (2020.1)\n",
      "Requirement already satisfied: python-dateutil>=2.7.3 in /opt/conda/envs/fastai/lib/python3.8/site-packages (from pandas<2.0.0,<2.0.0scipy>=1.2.0,>=0.23.4->shapelets-lts==0.3.1) (2.8.1)\n",
      "Requirement already satisfied: joblib>=0.11 in /opt/conda/envs/fastai/lib/python3.8/site-packages (from scikit-learn<2.0.0,>=0.20.2->shapelets-lts==0.3.1) (0.16.0)\n",
      "Requirement already satisfied: threadpoolctl>=2.0.0 in /opt/conda/envs/fastai/lib/python3.8/site-packages (from scikit-learn<2.0.0,>=0.20.2->shapelets-lts==0.3.1) (2.1.0)\n",
      "Requirement already satisfied: scipy>=0.19.1 in /opt/conda/envs/fastai/lib/python3.8/site-packages (from scikit-learn<2.0.0,>=0.20.2->shapelets-lts==0.3.1) (1.5.2)\n",
      "Requirement already satisfied: matplotlib>=2.2 in /opt/conda/envs/fastai/lib/python3.8/site-packages (from seaborn<2.0.0,>=0.9.0->shapelets-lts==0.3.1) (3.3.1)\n",
      "Requirement already satisfied: six>=1.5 in /opt/conda/envs/fastai/lib/python3.8/site-packages (from python-dateutil>=2.7.3->pandas<2.0.0,<2.0.0scipy>=1.2.0,>=0.23.4->shapelets-lts==0.3.1) (1.15.0)\n",
      "Requirement already satisfied: cycler>=0.10 in /opt/conda/envs/fastai/lib/python3.8/site-packages (from matplotlib>=2.2->seaborn<2.0.0,>=0.9.0->shapelets-lts==0.3.1) (0.10.0)\n",
      "Requirement already satisfied: kiwisolver>=1.0.1 in /opt/conda/envs/fastai/lib/python3.8/site-packages (from matplotlib>=2.2->seaborn<2.0.0,>=0.9.0->shapelets-lts==0.3.1) (1.2.0)\n",
      "Requirement already satisfied: certifi>=2020.06.20 in /opt/conda/envs/fastai/lib/python3.8/site-packages (from matplotlib>=2.2->seaborn<2.0.0,>=0.9.0->shapelets-lts==0.3.1) (2020.6.20)\n",
      "Requirement already satisfied: pyparsing!=2.0.4,!=2.1.2,!=2.1.6,>=2.0.3 in /opt/conda/envs/fastai/lib/python3.8/site-packages (from matplotlib>=2.2->seaborn<2.0.0,>=0.9.0->shapelets-lts==0.3.1) (2.4.7)\n",
      "Requirement already satisfied: pillow>=6.2.0 in /opt/conda/envs/fastai/lib/python3.8/site-packages (from matplotlib>=2.2->seaborn<2.0.0,>=0.9.0->shapelets-lts==0.3.1) (7.2.0)\n",
      "Building wheels for collected packages: shapelets-lts\n",
      "  Building wheel for shapelets-lts (setup.py) ... \u001b[?25ldone\n",
      "\u001b[?25h  Created wheel for shapelets-lts: filename=shapelets_lts-0.3.1-py3-none-any.whl size=11661 sha256=e5ef282b4f053c2becb2fb1ccd19eb6fcda3697edcd7038dd8bd27dfef9b392f\n",
      "  Stored in directory: /root/.cache/pip/wheels/6e/ab/46/5e0bb20fb0417e2dabbe80e77eee27df4e273701840665d082\n",
      "Successfully built shapelets-lts\n",
      "Installing collected packages: shapelets-lts\n",
      "  Attempting uninstall: shapelets-lts\n",
      "    Found existing installation: shapelets-lts 0.3.1\n",
      "    Uninstalling shapelets-lts-0.3.1:\n",
      "      Successfully uninstalled shapelets-lts-0.3.1\n",
      "Successfully installed shapelets-lts-0.3.1\n",
      "Note: you may need to restart the kernel to use updated packages.\n"
     ]
    }
   ],
   "source": [
    "pip install ."
   ]
  },
  {
   "cell_type": "code",
   "execution_count": 8,
   "metadata": {},
   "outputs": [
    {
     "name": "stdout",
     "output_type": "stream",
     "text": [
      "Network initialization ...\n",
      "Using training data to initialize shaplets\n",
      "Training ...\n",
      "Using training data for validation\n",
      "epoch=1/250 (iteration=23) loss=0.32951670751799766 validation accuracy=0.4782608695652174\n",
      "epoch=2/250 (iteration=46) loss=0.439963830681414 validation accuracy=0.4782608695652174\n",
      "epoch=3/250 (iteration=69) loss=0.5466151250631948 validation accuracy=0.4782608695652174\n",
      "epoch=4/250 (iteration=92) loss=0.6495959391701027 validation accuracy=0.4782608695652174\n",
      "epoch=5/250 (iteration=115) loss=0.7657905380109089 validation accuracy=0.4782608695652174\n",
      "epoch=6/250 (iteration=138) loss=0.8989618927898275 validation accuracy=0.4782608695652174\n",
      "epoch=7/250 (iteration=161) loss=1.0264622145528566 validation accuracy=0.4782608695652174\n",
      "epoch=8/250 (iteration=184) loss=1.1253477992788812 validation accuracy=0.4782608695652174\n",
      "epoch=9/250 (iteration=207) loss=1.1900668838359842 validation accuracy=0.6956521739130435\n",
      "epoch=10/250 (iteration=230) loss=1.2261736967905268 validation accuracy=0.8260869565217391\n",
      "epoch=11/250 (iteration=253) loss=1.241741181451337 validation accuracy=0.8695652173913043\n",
      "epoch=12/250 (iteration=276) loss=1.243671092874265 validation accuracy=0.9565217391304348\n",
      "epoch=13/250 (iteration=299) loss=1.2369239879492646 validation accuracy=0.9130434782608695\n",
      "epoch=14/250 (iteration=322) loss=1.224800314946414 validation accuracy=0.9130434782608695\n",
      "epoch=15/250 (iteration=345) loss=1.2094379294515047 validation accuracy=0.9130434782608695\n",
      "epoch=16/250 (iteration=368) loss=1.1921975293127558 validation accuracy=0.9130434782608695\n",
      "epoch=17/250 (iteration=391) loss=1.1739281084430206 validation accuracy=0.9130434782608695\n",
      "epoch=18/250 (iteration=414) loss=1.1551549652788484 validation accuracy=0.9130434782608695\n",
      "epoch=19/250 (iteration=437) loss=1.1362001556010615 validation accuracy=0.9130434782608695\n",
      "epoch=20/250 (iteration=460) loss=1.1172551612154296 validation accuracy=0.9130434782608695\n",
      "epoch=21/250 (iteration=483) loss=1.0984285228419717 validation accuracy=0.9130434782608695\n",
      "epoch=22/250 (iteration=506) loss=1.0797787945318196 validation accuracy=0.9130434782608695\n",
      "epoch=23/250 (iteration=529) loss=1.0613359237187252 validation accuracy=0.9565217391304348\n",
      "epoch=24/250 (iteration=552) loss=1.04311397414154 validation accuracy=0.9565217391304348\n",
      "epoch=25/250 (iteration=575) loss=1.0251183651784808 validation accuracy=0.9565217391304348\n",
      "epoch=26/250 (iteration=598) loss=1.0073499870449687 validation accuracy=0.9565217391304348\n",
      "epoch=27/250 (iteration=621) loss=0.9898076028717606 validation accuracy=0.9565217391304348\n",
      "epoch=28/250 (iteration=644) loss=0.9724892941959915 validation accuracy=0.9565217391304348\n",
      "epoch=29/250 (iteration=667) loss=0.9553933108169836 validation accuracy=0.9565217391304348\n",
      "epoch=30/250 (iteration=690) loss=0.9385184646295852 validation accuracy=0.9565217391304348\n",
      "epoch=31/250 (iteration=713) loss=0.9218641176741235 validation accuracy=0.9565217391304348\n",
      "epoch=32/250 (iteration=736) loss=0.9054298005367728 validation accuracy=0.9565217391304348\n",
      "epoch=33/250 (iteration=759) loss=0.8892144851234753 validation accuracy=0.9565217391304348\n",
      "epoch=34/250 (iteration=782) loss=0.8732155125748391 validation accuracy=0.9565217391304348\n",
      "epoch=35/250 (iteration=805) loss=0.8574272377248421 validation accuracy=0.9565217391304348\n",
      "epoch=36/250 (iteration=828) loss=0.8418397727056637 validation accuracy=0.9565217391304348\n",
      "epoch=37/250 (iteration=851) loss=0.8264388621340908 validation accuracy=0.9565217391304348\n",
      "epoch=38/250 (iteration=874) loss=0.811208313146073 validation accuracy=0.9565217391304348\n",
      "epoch=39/250 (iteration=897) loss=0.7961350767233177 validation accuracy=0.9565217391304348\n",
      "epoch=40/250 (iteration=920) loss=0.7812140381090849 validation accuracy=0.9565217391304348\n",
      "epoch=41/250 (iteration=943) loss=0.7664488545977775 validation accuracy=0.9565217391304348\n",
      "epoch=42/250 (iteration=966) loss=0.751848929187338 validation accuracy=0.9565217391304348\n",
      "epoch=43/250 (iteration=989) loss=0.7374256353998727 validation accuracy=0.9565217391304348\n",
      "epoch=44/250 (iteration=1012) loss=0.7231899086322728 validation accuracy=0.9565217391304348\n",
      "epoch=45/250 (iteration=1035) loss=0.7091513285467738 validation accuracy=0.9565217391304348\n",
      "epoch=46/250 (iteration=1058) loss=0.6953181118190397 validation accuracy=0.9565217391304348\n",
      "epoch=47/250 (iteration=1081) loss=0.6816975508167007 validation accuracy=0.9565217391304348\n",
      "epoch=48/250 (iteration=1104) loss=0.6682966116558413 validation accuracy=0.9565217391304348\n",
      "epoch=49/250 (iteration=1127) loss=0.655122417496867 validation accuracy=0.9565217391304348\n",
      "epoch=50/250 (iteration=1150) loss=0.6421821570212254 validation accuracy=0.9565217391304348\n",
      "epoch=51/250 (iteration=1173) loss=0.6294814461838444 validation accuracy=0.9565217391304348\n",
      "epoch=52/250 (iteration=1196) loss=0.6170191172757857 validation accuracy=0.9565217391304348\n",
      "epoch=53/250 (iteration=1219) loss=0.6047748690341967 validation accuracy=0.9565217391304348\n",
      "epoch=54/250 (iteration=1242) loss=0.5926855772501011 validation accuracy=0.9565217391304348\n",
      "epoch=55/250 (iteration=1265) loss=0.5806177007548267 validation accuracy=0.9565217391304348\n",
      "epoch=56/250 (iteration=1288) loss=0.5684758196154309 validation accuracy=0.9565217391304348\n",
      "epoch=57/250 (iteration=1311) loss=0.5571080707572593 validation accuracy=0.9565217391304348\n",
      "epoch=58/250 (iteration=1334) loss=0.5479625367055705 validation accuracy=0.9565217391304348\n",
      "epoch=59/250 (iteration=1357) loss=0.5395520045265143 validation accuracy=0.9565217391304348\n",
      "epoch=60/250 (iteration=1380) loss=0.5310572347504027 validation accuracy=0.9565217391304348\n",
      "epoch=61/250 (iteration=1403) loss=0.5224657829591555 validation accuracy=0.9565217391304348\n",
      "epoch=62/250 (iteration=1426) loss=0.5138643396914231 validation accuracy=0.9565217391304348\n",
      "epoch=63/250 (iteration=1449) loss=0.5053259670464147 validation accuracy=0.9565217391304348\n",
      "epoch=64/250 (iteration=1472) loss=0.49689856411453115 validation accuracy=0.9565217391304348\n",
      "epoch=65/250 (iteration=1495) loss=0.48860997080184065 validation accuracy=0.9565217391304348\n",
      "epoch=66/250 (iteration=1518) loss=0.4804741936538166 validation accuracy=0.9565217391304348\n",
      "epoch=67/250 (iteration=1541) loss=0.4724962902369715 validation accuracy=0.9565217391304348\n",
      "epoch=68/250 (iteration=1564) loss=0.4646760363681838 validation accuracy=0.9565217391304348\n",
      "epoch=69/250 (iteration=1587) loss=0.4570107519798674 validation accuracy=0.9565217391304348\n",
      "epoch=70/250 (iteration=1610) loss=0.449497422192357 validation accuracy=0.9565217391304348\n",
      "epoch=71/250 (iteration=1633) loss=0.4421340521915178 validation accuracy=0.9565217391304348\n",
      "epoch=72/250 (iteration=1656) loss=0.43492020944118726 validation accuracy=0.9565217391304348\n",
      "epoch=73/250 (iteration=1679) loss=0.4278568844782469 validation accuracy=0.9565217391304348\n",
      "epoch=74/250 (iteration=1702) loss=0.42094596316108324 validation accuracy=0.9565217391304348\n",
      "epoch=75/250 (iteration=1725) loss=0.4141896201449877 validation accuracy=0.9565217391304348\n",
      "epoch=76/250 (iteration=1748) loss=0.4075898345692981 validation accuracy=0.9565217391304348\n",
      "epoch=77/250 (iteration=1771) loss=0.4011480938301991 validation accuracy=0.9565217391304348\n",
      "epoch=78/250 (iteration=1794) loss=0.3948652618478694 validation accuracy=0.9565217391304348\n",
      "epoch=79/250 (iteration=1817) loss=0.3887415559803411 validation accuracy=0.9565217391304348\n",
      "epoch=80/250 (iteration=1840) loss=0.38277658050256147 validation accuracy=0.9565217391304348\n",
      "epoch=81/250 (iteration=1863) loss=0.3769693814343231 validation accuracy=0.9565217391304348\n",
      "epoch=82/250 (iteration=1886) loss=0.3713185043827341 validation accuracy=0.9565217391304348\n",
      "epoch=83/250 (iteration=1909) loss=0.3658220493183171 validation accuracy=0.9565217391304348\n",
      "epoch=84/250 (iteration=1932) loss=0.3604777233116726 validation accuracy=0.9565217391304348\n",
      "epoch=85/250 (iteration=1955) loss=0.35528289499927435 validation accuracy=0.9565217391304348\n",
      "epoch=86/250 (iteration=1978) loss=0.3502346539788339 validation accuracy=0.9565217391304348\n",
      "epoch=87/250 (iteration=2001) loss=0.3453298757019154 validation accuracy=0.9565217391304348\n",
      "epoch=88/250 (iteration=2024) loss=0.3405652891996685 validation accuracy=0.9565217391304348\n"
     ]
    },
    {
     "name": "stdout",
     "output_type": "stream",
     "text": [
      "epoch=89/250 (iteration=2047) loss=0.3359375425889564 validation accuracy=0.9565217391304348\n",
      "epoch=90/250 (iteration=2070) loss=0.3314432607074586 validation accuracy=0.9565217391304348\n",
      "epoch=91/250 (iteration=2093) loss=0.32707909050615236 validation accuracy=0.9565217391304348\n",
      "epoch=92/250 (iteration=2116) loss=0.32284173226684976 validation accuracy=0.9565217391304348\n",
      "epoch=93/250 (iteration=2139) loss=0.3187279572446966 validation accuracy=0.9565217391304348\n",
      "epoch=94/250 (iteration=2162) loss=0.31473461410868875 validation accuracy=0.9565217391304348\n",
      "epoch=95/250 (iteration=2185) loss=0.3108586272548486 validation accuracy=0.9565217391304348\n",
      "epoch=96/250 (iteration=2208) loss=0.3070969898941305 validation accuracy=0.9565217391304348\n",
      "epoch=97/250 (iteration=2231) loss=0.3034467542185538 validation accuracy=0.9565217391304348\n",
      "epoch=98/250 (iteration=2254) loss=0.2999050203409199 validation accuracy=0.9565217391304348\n",
      "epoch=99/250 (iteration=2277) loss=0.29646892530192503 validation accuracy=0.9565217391304348\n",
      "epoch=100/250 (iteration=2300) loss=0.293135633238669 validation accuracy=0.9565217391304348\n",
      "epoch=101/250 (iteration=2323) loss=0.2899023276720493 validation accuracy=0.9565217391304348\n",
      "epoch=102/250 (iteration=2346) loss=0.2867662066522606 validation accuracy=0.9565217391304348\n",
      "epoch=103/250 (iteration=2369) loss=0.283724481145281 validation accuracy=0.9565217391304348\n",
      "epoch=104/250 (iteration=2392) loss=0.28077437660151805 validation accuracy=0.9565217391304348\n",
      "epoch=105/250 (iteration=2415) loss=0.2779131372344975 validation accuracy=0.9565217391304348\n",
      "epoch=106/250 (iteration=2438) loss=0.2751380322558585 validation accuracy=0.9565217391304348\n",
      "epoch=107/250 (iteration=2461) loss=0.27244636320847404 validation accuracy=0.9565217391304348\n",
      "epoch=108/250 (iteration=2484) loss=0.26983547159479415 validation accuracy=0.9565217391304348\n",
      "epoch=109/250 (iteration=2507) loss=0.2673027461567457 validation accuracy=0.9565217391304348\n",
      "epoch=110/250 (iteration=2530) loss=0.2648456293642033 validation accuracy=0.9565217391304348\n",
      "epoch=111/250 (iteration=2553) loss=0.2624616228621961 validation accuracy=0.9565217391304348\n",
      "epoch=112/250 (iteration=2576) loss=0.26014829178491994 validation accuracy=0.9565217391304348\n",
      "epoch=113/250 (iteration=2599) loss=0.2579032679576927 validation accuracy=0.9565217391304348\n",
      "epoch=114/250 (iteration=2622) loss=0.25572425207873 validation accuracy=0.9565217391304348\n",
      "epoch=115/250 (iteration=2645) loss=0.25360901500917343 validation accuracy=0.9565217391304348\n",
      "epoch=116/250 (iteration=2668) loss=0.2515553983117851 validation accuracy=0.9565217391304348\n",
      "epoch=117/250 (iteration=2691) loss=0.2495613141748483 validation accuracy=0.9565217391304348\n",
      "epoch=118/250 (iteration=2714) loss=0.2476247448448917 validation accuracy=0.9565217391304348\n",
      "epoch=119/250 (iteration=2737) loss=0.2457437416748349 validation accuracy=0.9565217391304348\n",
      "epoch=120/250 (iteration=2760) loss=0.24391642387617277 validation accuracy=0.9565217391304348\n",
      "epoch=121/250 (iteration=2783) loss=0.24214097704690296 validation accuracy=0.9565217391304348\n",
      "epoch=122/250 (iteration=2806) loss=0.24041565153197175 validation accuracy=0.9565217391304348\n",
      "epoch=123/250 (iteration=2829) loss=0.23873876066056732 validation accuracy=0.9565217391304348\n",
      "epoch=124/250 (iteration=2852) loss=0.237108678894608 validation accuracy=0.9565217391304348\n",
      "epoch=125/250 (iteration=2875) loss=0.23552383991510342 validation accuracy=0.9565217391304348\n",
      "epoch=126/250 (iteration=2898) loss=0.23398273466741876 validation accuracy=0.9565217391304348\n",
      "epoch=127/250 (iteration=2921) loss=0.2324839093825175 validation accuracy=0.9565217391304348\n",
      "epoch=128/250 (iteration=2944) loss=0.23102596358866245 validation accuracy=0.9565217391304348\n",
      "epoch=129/250 (iteration=2967) loss=0.22960754812647272 validation accuracy=0.9565217391304348\n",
      "epoch=130/250 (iteration=2990) loss=0.22822736317941003 validation accuracy=0.9565217391304348\n",
      "epoch=131/250 (iteration=3013) loss=0.22688415633133951 validation accuracy=0.9565217391304348\n",
      "epoch=132/250 (iteration=3036) loss=0.2255767206626052 validation accuracy=0.9565217391304348\n",
      "epoch=133/250 (iteration=3059) loss=0.22430389289579755 validation accuracy=0.9565217391304348\n",
      "epoch=134/250 (iteration=3082) loss=0.22306455160189553 validation accuracy=0.9565217391304348\n",
      "epoch=135/250 (iteration=3105) loss=0.22185761547661037 validation accuracy=0.9565217391304348\n",
      "epoch=136/250 (iteration=3128) loss=0.2206820416954513 validation accuracy=0.9565217391304348\n",
      "epoch=137/250 (iteration=3151) loss=0.21953682435425242 validation accuracy=0.9565217391304348\n",
      "epoch=138/250 (iteration=3174) loss=0.21842099299969944 validation accuracy=0.9565217391304348\n",
      "epoch=139/250 (iteration=3197) loss=0.21733361125187062 validation accuracy=0.9565217391304348\n",
      "epoch=140/250 (iteration=3220) loss=0.21627377551815236 validation accuracy=1.0\n",
      "epoch=141/250 (iteration=3243) loss=0.21524061379523296 validation accuracy=1.0\n",
      "epoch=142/250 (iteration=3266) loss=0.2142332845534912 validation accuracy=1.0\n",
      "epoch=143/250 (iteration=3289) loss=0.21325097569609566 validation accuracy=1.0\n",
      "epoch=144/250 (iteration=3312) loss=0.21229290358369118 validation accuracy=1.0\n",
      "epoch=145/250 (iteration=3335) loss=0.21135831211473882 validation accuracy=1.0\n",
      "epoch=146/250 (iteration=3358) loss=0.2104464718514072 validation accuracy=1.0\n",
      "epoch=147/250 (iteration=3381) loss=0.20955667918135837 validation accuracy=1.0\n",
      "epoch=148/250 (iteration=3404) loss=0.20868825550671805 validation accuracy=1.0\n",
      "epoch=149/250 (iteration=3427) loss=0.20784054645282746 validation accuracy=1.0\n",
      "epoch=150/250 (iteration=3450) loss=0.20701292109093344 validation accuracy=1.0\n",
      "epoch=151/250 (iteration=3473) loss=0.2062047711705786 validation accuracy=1.0\n",
      "epoch=152/250 (iteration=3496) loss=0.20541551035903333 validation accuracy=1.0\n",
      "epoch=153/250 (iteration=3519) loss=0.20464457348651846 validation accuracy=1.0\n",
      "epoch=154/250 (iteration=3542) loss=0.20389141579717188 validation accuracy=1.0\n",
      "epoch=155/250 (iteration=3565) loss=0.20315551220662809 validation accuracy=1.0\n",
      "epoch=156/250 (iteration=3588) loss=0.20243635656777617 validation accuracy=1.0\n",
      "epoch=157/250 (iteration=3611) loss=0.20173346094665381 validation accuracy=1.0\n",
      "epoch=158/250 (iteration=3634) loss=0.20104635491065848 validation accuracy=1.0\n",
      "epoch=159/250 (iteration=3657) loss=0.20037458483127188 validation accuracy=1.0\n",
      "epoch=160/250 (iteration=3680) loss=0.19971771320338322 validation accuracy=1.0\n",
      "epoch=161/250 (iteration=3703) loss=0.19907531798310363 validation accuracy=1.0\n",
      "epoch=162/250 (iteration=3726) loss=0.1984469919457031 validation accuracy=1.0\n",
      "epoch=163/250 (iteration=3749) loss=0.19783234206502381 validation accuracy=1.0\n",
      "epoch=164/250 (iteration=3772) loss=0.19723098891545143 validation accuracy=1.0\n",
      "epoch=165/250 (iteration=3795) loss=0.1966425660972561 validation accuracy=1.0\n",
      "epoch=166/250 (iteration=3818) loss=0.1960667196858995 validation accuracy=1.0\n",
      "epoch=167/250 (iteration=3841) loss=0.1955031077056929 validation accuracy=1.0\n",
      "epoch=168/250 (iteration=3864) loss=0.194951399628043 validation accuracy=1.0\n",
      "epoch=169/250 (iteration=3887) loss=0.19441127589439028 validation accuracy=1.0\n",
      "epoch=170/250 (iteration=3910) loss=0.19388242746385184 validation accuracy=1.0\n",
      "epoch=171/250 (iteration=3933) loss=0.19336455538550415 validation accuracy=1.0\n",
      "epoch=172/250 (iteration=3956) loss=0.19285737039518447 validation accuracy=1.0\n",
      "epoch=173/250 (iteration=3979) loss=0.19236059253663607 validation accuracy=1.0\n",
      "epoch=174/250 (iteration=4002) loss=0.19187395080676722 validation accuracy=1.0\n",
      "epoch=175/250 (iteration=4025) loss=0.1913971828247278 validation accuracy=1.0\n",
      "epoch=176/250 (iteration=4048) loss=0.19093003452441776 validation accuracy=1.0\n",
      "epoch=177/250 (iteration=4071) loss=0.19047225986992444 validation accuracy=1.0\n",
      "epoch=178/250 (iteration=4094) loss=0.19002362059323968 validation accuracy=1.0\n",
      "epoch=179/250 (iteration=4117) loss=0.1895838859534159 validation accuracy=1.0\n",
      "epoch=180/250 (iteration=4140) loss=0.18915283251609183 validation accuracy=1.0\n",
      "epoch=181/250 (iteration=4163) loss=0.1887302439520621 validation accuracy=1.0\n",
      "epoch=182/250 (iteration=4186) loss=0.18831591085327593 validation accuracy=1.0\n"
     ]
    },
    {
     "name": "stdout",
     "output_type": "stream",
     "text": [
      "epoch=183/250 (iteration=4209) loss=0.1879096305643361 validation accuracy=1.0\n",
      "epoch=184/250 (iteration=4232) loss=0.1875112070272803 validation accuracy=1.0\n",
      "epoch=185/250 (iteration=4255) loss=0.1871204506371278 validation accuracy=1.0\n",
      "epoch=186/250 (iteration=4278) loss=0.18673717810544505 validation accuracy=1.0\n",
      "epoch=187/250 (iteration=4301) loss=0.1863612123289961 validation accuracy=1.0\n",
      "epoch=188/250 (iteration=4324) loss=0.18599238226045742 validation accuracy=1.0\n",
      "epoch=189/250 (iteration=4347) loss=0.18563052277817632 validation accuracy=1.0\n",
      "epoch=190/250 (iteration=4370) loss=0.1852754745520666 validation accuracy=1.0\n",
      "epoch=191/250 (iteration=4393) loss=0.18492708390295637 validation accuracy=1.0\n",
      "epoch=192/250 (iteration=4416) loss=0.18458520265300932 validation accuracy=1.0\n",
      "epoch=193/250 (iteration=4439) loss=0.1842496879652495 validation accuracy=1.0\n",
      "epoch=194/250 (iteration=4462) loss=0.18392040217064537 validation accuracy=1.0\n",
      "epoch=195/250 (iteration=4485) loss=0.18359721258169043 validation accuracy=1.0\n",
      "epoch=196/250 (iteration=4508) loss=0.18327999129187905 validation accuracy=1.0\n",
      "epoch=197/250 (iteration=4531) loss=0.18296861496092026 validation accuracy=1.0\n",
      "epoch=198/250 (iteration=4554) loss=0.18266296458593728 validation accuracy=1.0\n",
      "epoch=199/250 (iteration=4577) loss=0.1823629252592983 validation accuracy=1.0\n",
      "epoch=200/250 (iteration=4600) loss=0.1820683859141072 validation accuracy=1.0\n",
      "epoch=201/250 (iteration=4623) loss=0.1817792390588028 validation accuracy=1.0\n",
      "epoch=202/250 (iteration=4646) loss=0.18149538050281516 validation accuracy=1.0\n",
      "epoch=203/250 (iteration=4669) loss=0.18121670907585669 validation accuracy=1.0\n",
      "epoch=204/250 (iteration=4692) loss=0.18094312634416965 validation accuracy=1.0\n",
      "epoch=205/250 (iteration=4715) loss=0.18067453632797464 validation accuracy=1.0\n",
      "epoch=206/250 (iteration=4738) loss=0.18041084522534329 validation accuracy=1.0\n",
      "epoch=207/250 (iteration=4761) loss=0.1801519611487081 validation accuracy=1.0\n",
      "epoch=208/250 (iteration=4784) loss=0.1798977938810526 validation accuracy=1.0\n",
      "epoch=209/250 (iteration=4807) loss=0.17964825465929135 validation accuracy=1.0\n",
      "epoch=210/250 (iteration=4830) loss=0.1794032559922796 validation accuracy=1.0\n",
      "epoch=211/250 (iteration=4853) loss=0.17916271152007532 validation accuracy=1.0\n",
      "epoch=212/250 (iteration=4876) loss=0.1789265359194327 validation accuracy=1.0\n",
      "epoch=213/250 (iteration=4899) loss=0.1786946448580394 validation accuracy=1.0\n",
      "epoch=214/250 (iteration=4922) loss=0.1784669549968757 validation accuracy=1.0\n",
      "epoch=215/250 (iteration=4945) loss=0.1782433840365961 validation accuracy=1.0\n",
      "epoch=216/250 (iteration=4968) loss=0.17802385080040878 validation accuracy=1.0\n",
      "epoch=217/250 (iteration=4991) loss=0.17780827534306204 validation accuracy=1.0\n",
      "epoch=218/250 (iteration=5014) loss=0.17759657907362883 validation accuracy=1.0\n",
      "epoch=219/250 (iteration=5037) loss=0.17738868487913262 validation accuracy=1.0\n",
      "epoch=220/250 (iteration=5060) loss=0.17718451723678838 validation accuracy=1.0\n",
      "epoch=221/250 (iteration=5083) loss=0.1769840023046071 validation accuracy=1.0\n",
      "epoch=222/250 (iteration=5106) loss=0.1767870679830466 validation accuracy=1.0\n",
      "epoch=223/250 (iteration=5129) loss=0.17659364394382798 validation accuracy=1.0\n",
      "epoch=224/250 (iteration=5152) loss=0.17640366162552068 validation accuracy=1.0\n",
      "epoch=225/250 (iteration=5175) loss=0.17621705419856595 validation accuracy=1.0\n",
      "epoch=226/250 (iteration=5198) loss=0.17603375650477743 validation accuracy=1.0\n",
      "epoch=227/250 (iteration=5221) loss=0.17585370497783775 validation accuracy=1.0\n",
      "epoch=228/250 (iteration=5244) loss=0.1756768375518755 validation accuracy=1.0\n",
      "epoch=229/250 (iteration=5267) loss=0.17550309356500005 validation accuracy=1.0\n",
      "epoch=230/250 (iteration=5290) loss=0.1753324136638352 validation accuracy=1.0\n",
      "epoch=231/250 (iteration=5313) loss=0.17516473971388008 validation accuracy=1.0\n",
      "epoch=232/250 (iteration=5336) loss=0.1750000147191337 validation accuracy=1.0\n",
      "epoch=233/250 (iteration=5359) loss=0.17483818275304036 validation accuracy=1.0\n",
      "epoch=234/250 (iteration=5382) loss=0.17467918890157597 validation accuracy=1.0\n",
      "epoch=235/250 (iteration=5405) loss=0.1745229792182794 validation accuracy=1.0\n",
      "epoch=236/250 (iteration=5428) loss=0.17436950069027815 validation accuracy=1.0\n",
      "epoch=237/250 (iteration=5451) loss=0.1742187012138567 validation accuracy=1.0\n",
      "epoch=238/250 (iteration=5474) loss=0.17407052957784577 validation accuracy=1.0\n",
      "epoch=239/250 (iteration=5497) loss=0.17392493545302815 validation accuracy=1.0\n",
      "epoch=240/250 (iteration=5520) loss=0.17378186938582357 validation accuracy=1.0\n",
      "epoch=241/250 (iteration=5543) loss=0.17364128279467017 validation accuracy=1.0\n",
      "epoch=242/250 (iteration=5566) loss=0.17350312796775108 validation accuracy=1.0\n",
      "epoch=243/250 (iteration=5589) loss=0.17336735806096043 validation accuracy=1.0\n",
      "epoch=244/250 (iteration=5612) loss=0.1732339270952658 validation accuracy=1.0\n",
      "epoch=245/250 (iteration=5635) loss=0.1731027899528699 validation accuracy=1.0\n",
      "epoch=246/250 (iteration=5658) loss=0.1729739023717977 validation accuracy=1.0\n",
      "epoch=247/250 (iteration=5681) loss=0.17284722093872595 validation accuracy=1.0\n",
      "epoch=248/250 (iteration=5704) loss=0.17272270308004375 validation accuracy=1.0\n",
      "epoch=249/250 (iteration=5727) loss=0.17260030705124582 validation accuracy=1.0\n",
      "epoch=250/250 (iteration=5750) loss=0.17247999192486682 validation accuracy=1.0\n"
     ]
    },
    {
     "data": {
      "image/png": "[encoded data removed]",
      "text/plain": [
       "<Figure size 1296x864 with 24 Axes>"
      ]
     },
     "metadata": {
      "needs_background": "light"
     },
     "output_type": "display_data"
    }
   ],
   "source": [
    "from shapelets_lts.classification import LtsShapeletClassifier\n",
    "\n",
    "# create an LtsShapeletClassifier instance\n",
    "Q = X_train.shape[1]\n",
    "classifier = LtsShapeletClassifier(\n",
    "    K= int(0.3 * Q),\n",
    "    R=1,\n",
    "    L_min=int(0.075 * Q),\n",
    "    epocs=250,\n",
    "    lamda=0.01,\n",
    "    eta=0.01,\n",
    "    plot_loss=False\n",
    ")\n",
    "\n",
    "# train the classifier. \n",
    "# train_data.shape -> (# train samples X time-series length) \n",
    "# train_label.shape -> (# train samples)\n",
    "classifier.fit(X_train, y_train)\n",
    "\n",
    "# evaluate on test data. \n",
    "# test_data.shape -> (# test samples X time-series length)\n",
    "prediction = classifier.predict(X_test)\n",
    "\n",
    "# retrieve the learnt shapelets\n",
    "shapelets = classifier.get_shapelets()\n",
    "\n",
    "\n",
    "# and plot sample shapelets\n",
    "from shapelets_lts.util import plot_sample_shapelets\n",
    "plot_sample_shapelets(shapelets=shapelets, sample_size=36)"
   ]
  },
  {
   "cell_type": "code",
   "execution_count": 9,
   "metadata": {},
   "outputs": [
    {
     "data": {
      "text/plain": [
       "0.9806848112379281"
      ]
     },
     "execution_count": 9,
     "metadata": {},
     "output_type": "execute_result"
    }
   ],
   "source": [
    "from sklearn.metrics import accuracy_score\n",
    "accuracy_score(y_test, prediction)"
   ]
  },
  {
   "cell_type": "code",
   "execution_count": 12,
   "metadata": {},
   "outputs": [
    {
     "data": {
      "text/plain": [
       "24"
      ]
     },
     "execution_count": 12,
     "metadata": {},
     "output_type": "execute_result"
    }
   ],
   "source": [
    "len(shapelets)"
   ]
  },
  {
   "cell_type": "code",
   "execution_count": 13,
   "metadata": {},
   "outputs": [],
   "source": [
    "shapelets_df = pd.DataFrame(shapelets)"
   ]
  },
  {
   "cell_type": "code",
   "execution_count": 16,
   "metadata": {
    "scrolled": true
   },
   "outputs": [
    {
     "data": {
      "text/html": [
       "<div>\n",
       "<style scoped>\n",
       "    .dataframe tbody tr th:only-of-type {\n",
       "        vertical-align: middle;\n",
       "    }\n",
       "\n",
       "    .dataframe tbody tr th {\n",
       "        vertical-align: top;\n",
       "    }\n",
       "\n",
       "    .dataframe thead th {\n",
       "        text-align: right;\n",
       "    }\n",
       "</style>\n",
       "<table border=\"1\" class=\"dataframe\">\n",
       "  <thead>\n",
       "    <tr style=\"text-align: right;\">\n",
       "      <th></th>\n",
       "      <th>0</th>\n",
       "      <th>1</th>\n",
       "      <th>2</th>\n",
       "      <th>3</th>\n",
       "      <th>4</th>\n",
       "      <th>5</th>\n",
       "    </tr>\n",
       "  </thead>\n",
       "  <tbody>\n",
       "    <tr>\n",
       "      <th>0</th>\n",
       "      <td>0.255468</td>\n",
       "      <td>0.021013</td>\n",
       "      <td>-0.643816</td>\n",
       "      <td>-0.977274</td>\n",
       "      <td>-0.394922</td>\n",
       "      <td>-1.497794</td>\n",
       "    </tr>\n",
       "    <tr>\n",
       "      <th>1</th>\n",
       "      <td>1.304022</td>\n",
       "      <td>1.158630</td>\n",
       "      <td>1.094958</td>\n",
       "      <td>0.923586</td>\n",
       "      <td>0.751921</td>\n",
       "      <td>0.557105</td>\n",
       "    </tr>\n",
       "    <tr>\n",
       "      <th>2</th>\n",
       "      <td>-2.003712</td>\n",
       "      <td>-1.829275</td>\n",
       "      <td>-1.629630</td>\n",
       "      <td>-1.395545</td>\n",
       "      <td>-1.165539</td>\n",
       "      <td>-0.852746</td>\n",
       "    </tr>\n",
       "    <tr>\n",
       "      <th>3</th>\n",
       "      <td>-0.123794</td>\n",
       "      <td>-0.344616</td>\n",
       "      <td>-3.413442</td>\n",
       "      <td>-4.606772</td>\n",
       "      <td>-3.367608</td>\n",
       "      <td>-2.531520</td>\n",
       "    </tr>\n",
       "    <tr>\n",
       "      <th>4</th>\n",
       "      <td>0.194330</td>\n",
       "      <td>0.174974</td>\n",
       "      <td>0.134810</td>\n",
       "      <td>0.108135</td>\n",
       "      <td>0.079996</td>\n",
       "      <td>0.055166</td>\n",
       "    </tr>\n",
       "  </tbody>\n",
       "</table>\n",
       "</div>"
      ],
      "text/plain": [
       "          0         1         2         3         4         5\n",
       "0  0.255468  0.021013 -0.643816 -0.977274 -0.394922 -1.497794\n",
       "1  1.304022  1.158630  1.094958  0.923586  0.751921  0.557105\n",
       "2 -2.003712 -1.829275 -1.629630 -1.395545 -1.165539 -0.852746\n",
       "3 -0.123794 -0.344616 -3.413442 -4.606772 -3.367608 -2.531520\n",
       "4  0.194330  0.174974  0.134810  0.108135  0.079996  0.055166"
      ]
     },
     "execution_count": 16,
     "metadata": {},
     "output_type": "execute_result"
    }
   ],
   "source": [
    "shapelets_df.head()"
   ]
  },
  {
   "cell_type": "code",
   "execution_count": 20,
   "metadata": {},
   "outputs": [
    {
     "name": "stdout",
     "output_type": "stream",
     "text": [
      "/storage\n"
     ]
    }
   ],
   "source": [
    "cd .."
   ]
  },
  {
   "cell_type": "code",
   "execution_count": 21,
   "metadata": {},
   "outputs": [],
   "source": [
    "shapelets_df.to_csv(os.path.join('data/TwoLeadECG', 'shapelets.csv'))"
   ]
  }
 ],
 "metadata": {
  "kernelspec": {
   "display_name": "Python 3",
   "language": "python",
   "name": "python3"
  },
  "language_info": {
   "codemirror_mode": {
    "name": "ipython",
    "version": 3
   },
   "file_extension": ".py",
   "mimetype": "text/x-python",
   "name": "python",
   "nbconvert_exporter": "python",
   "pygments_lexer": "ipython3",
   "version": "3.7.6"
  }
 },
 "nbformat": 4,
 "nbformat_minor": 4
}
